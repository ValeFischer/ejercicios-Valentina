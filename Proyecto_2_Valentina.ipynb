{
 "cells": [
  {
   "cell_type": "code",
   "execution_count": 9,
   "metadata": {},
   "outputs": [
    {
     "name": "stdout",
     "output_type": "stream",
     "text": [
      "Requirement already satisfied: beautifulsoup4 in /home/v_fischer/anaconda3/lib/python3.9/site-packages (4.10.0)\n",
      "Requirement already satisfied: soupsieve>1.2 in /home/v_fischer/anaconda3/lib/python3.9/site-packages (from beautifulsoup4) (2.2.1)\n"
     ]
    }
   ],
   "source": [
    "#instalar BS\n",
    "!pip install beautifulsoup4"
   ]
  },
  {
   "cell_type": "code",
   "execution_count": 17,
   "metadata": {},
   "outputs": [],
   "source": [
    "# Tratamiento de datos\n",
    "from bs4 import BeautifulSoup\n",
    "import pandas as pd\n",
    "\n",
    "# Uso de API's\n",
    "import requests\n",
    "\n",
    "# Importar librerías para procesamiento de texto\n",
    "import re\n",
    "\n",
    "# Configuración\n",
    "pd.set_option('display.max_columns', None)"
   ]
  },
  {
   "cell_type": "code",
   "execution_count": 24,
   "metadata": {},
   "outputs": [],
   "source": [
    "def peliculas(genero, anyo):\n",
    "\n",
    "\turl = \"https://moviesdatabase.p.rapidapi.com/titles\"\n",
    "\n",
    "\tquerystring = {\"genre\":{genero},\"year\":{anyo},\"limit\":\"50\"}\n",
    "\n",
    "\theaders = {\n",
    "\t\t\"X-RapidAPI-Key\": \"a2850b5a12msh0b9b93d5cd14a80p1d8e67jsnefeba741d833\",\n",
    "\t\t\"X-RapidAPI-Host\": \"moviesdatabase.p.rapidapi.com\"\n",
    "\t}\n",
    "\tresponse = requests.get(url, headers=headers, params=querystring)\n",
    "\tif response.status_code != 200:\n",
    "\t\tprint (f\"El motivo por el que la llamada falló es {response.reason}\")\n",
    "\telse:\n",
    "\t\trespuesta_json =  response.json()\n",
    "\t\treturn respuesta_json\n",
    "\t\n"
   ]
  },
  {
   "cell_type": "code",
   "execution_count": 25,
   "metadata": {},
   "outputs": [
    {
     "name": "stdout",
     "output_type": "stream",
     "text": [
      "{'page': 1, 'next': '/titles?limit=50&year=2018&genre=Drama&page=2', 'entries': 50, 'results': [{'_id': '61e580e4b597b91eb9414bc9', 'id': 'tt0069049', 'primaryImage': {'id': 'rm155088896', 'width': 1476, 'height': 2048, 'url': 'https://m.media-amazon.com/images/M/MV5BNDg5NTQ0NDU1Nl5BMl5BanBnXkFtZTgwMTExNzIyNjM@._V1_.jpg', 'caption': {'plainText': 'Peter Bogdanovich, John Huston, and Susan Strasberg in The Other Side of the Wind (2018)', '__typename': 'Markdown'}, '__typename': 'Image'}, 'titleType': {'text': 'Movie', 'id': 'movie', 'isSeries': False, 'isEpisode': False, '__typename': 'TitleType'}, 'titleText': {'text': 'The Other Side of the Wind', '__typename': 'TitleText'}, 'originalTitleText': {'text': 'The Other Side of the Wind', '__typename': 'TitleText'}, 'releaseYear': {'year': 2018, 'endYear': None, '__typename': 'YearRange'}, 'releaseDate': {'day': 2, 'month': 11, 'year': 2018, '__typename': 'ReleaseDate'}}, {'_id': '61e58260d8f3c0931e419839', 'id': 'tt0192528', 'primaryImage': {'id': 'rm980975360', 'width': 1052, 'height': 1478, 'url': 'https://m.media-amazon.com/images/M/MV5BMWM5NWY5YzItZDViZC00YzgwLTk4NzctZDdiZGE5MTY5M2QwXkEyXkFqcGdeQXVyNjI5Mjk4MjU@._V1_.jpg', 'caption': {'plainText': 'Reverse Heaven (2018)', '__typename': 'Markdown'}, '__typename': 'Image'}, 'titleType': {'text': 'Movie', 'id': 'movie', 'isSeries': False, 'isEpisode': False, '__typename': 'TitleType'}, 'titleText': {'text': 'Reverse Heaven', '__typename': 'TitleText'}, 'originalTitleText': {'text': 'Reverse Heaven', '__typename': 'TitleText'}, 'releaseYear': {'year': 2018, 'endYear': None, '__typename': 'YearRange'}, 'releaseDate': {'day': 6, 'month': 11, 'year': 2018, '__typename': 'ReleaseDate'}}, {'_id': '61e58348ef99b1c54341cc23', 'id': 'tt0276568', 'primaryImage': {'id': 'rm4202615296', 'width': 375, 'height': 500, 'url': 'https://m.media-amazon.com/images/M/MV5BMjIyMDExNTEzMl5BMl5BanBnXkFtZTgwNDQ1OTk1MDE@._V1_.jpg', 'caption': {'plainText': 'To Chase a Million (2018)', '__typename': 'Markdown'}, '__typename': 'Image'}, 'titleType': {'text': 'Movie', 'id': 'movie', 'isSeries': False, 'isEpisode': False, '__typename': 'TitleType'}, 'titleText': {'text': 'To Chase a Million', '__typename': 'TitleText'}, 'originalTitleText': {'text': 'To Chase a Million', '__typename': 'TitleText'}, 'releaseYear': {'year': 2018, 'endYear': None, '__typename': 'YearRange'}, 'releaseDate': {'day': None, 'month': None, 'year': 1967, '__typename': 'ReleaseDate'}}, {'_id': '61e583d7d735dff3f941ed31', 'id': 'tt0328810', 'primaryImage': {'id': 'rm1025400064', 'width': 248, 'height': 370, 'url': 'https://m.media-amazon.com/images/M/MV5BNzgxOTU4MTQtNGQwZS00ZDE0LWE4MzUtNzczOWE4MjA4NjEyXkEyXkFqcGdeQXVyNzgzNDAzMTA@._V1_.jpg', 'caption': {'plainText': 'Nandita Das, Saswata Chatterjee, and Koushik Sen in Aamaar Bhuvan (2018)', '__typename': 'Markdown'}, '__typename': 'Image'}, 'titleType': {'text': 'Movie', 'id': 'movie', 'isSeries': False, 'isEpisode': False, '__typename': 'TitleType'}, 'titleText': {'text': 'Aamaar Bhuvan', '__typename': 'TitleText'}, 'originalTitleText': {'text': 'Aamaar Bhuvan', '__typename': 'TitleText'}, 'releaseYear': {'year': 2018, 'endYear': None, '__typename': 'YearRange'}, 'releaseDate': {'day': 30, 'month': 12, 'year': 2018, '__typename': 'ReleaseDate'}}, {'_id': '61e58428cffb8f2faa41ff97', 'id': 'tt0360556', 'primaryImage': {'id': 'rm3778563328', 'width': 1944, 'height': 2880, 'url': 'https://m.media-amazon.com/images/M/MV5BZmM1ZGJkZDgtNzBlNS00YjkyLTk3NGEtZTIxMGVkMTk2Yjg1XkEyXkFqcGdeQXVyMTMxODk2OTU@._V1_.jpg', 'caption': {'plainText': 'Michael B. Jordan and Michael Shannon in Fahrenheit 451 (2018)', '__typename': 'Markdown'}, '__typename': 'Image'}, 'titleType': {'text': 'Movie', 'id': 'movie', 'isSeries': False, 'isEpisode': False, '__typename': 'TitleType'}, 'titleText': {'text': 'Fahrenheit 451', '__typename': 'TitleText'}, 'originalTitleText': {'text': 'Fahrenheit 451', '__typename': 'TitleText'}, 'releaseYear': {'year': 2018, 'endYear': None, '__typename': 'YearRange'}, 'releaseDate': {'day': 21, 'month': 5, 'year': 2018, '__typename': 'ReleaseDate'}}, {'_id': '61e58439cffb8f2faa420377', 'id': 'tt0365545', 'primaryImage': {'id': 'rm3258795008', 'width': 1500, 'height': 2222, 'url': 'https://m.media-amazon.com/images/M/MV5BMzIzMWY0Y2YtMWM4My00MjZlLWI4YjAtMjNjMzE5YmVjM2M0XkEyXkFqcGdeQXVyMTMxODk2OTU@._V1_.jpg', 'caption': {'plainText': 'Sanaa Lathan in Nappily Ever After (2018)', '__typename': 'Markdown'}, '__typename': 'Image'}, 'titleType': {'text': 'Movie', 'id': 'movie', 'isSeries': False, 'isEpisode': False, '__typename': 'TitleType'}, 'titleText': {'text': 'Nappily Ever After', '__typename': 'TitleText'}, 'originalTitleText': {'text': 'Nappily Ever After', '__typename': 'TitleText'}, 'releaseYear': {'year': 2018, 'endYear': None, '__typename': 'YearRange'}, 'releaseDate': {'day': 21, 'month': 9, 'year': 2018, '__typename': 'ReleaseDate'}}, {'_id': '61e584e8ef99b1c543422b5d', 'id': 'tt0427543', 'primaryImage': {'id': 'rm3094385153', 'width': 2370, 'height': 3511, 'url': 'https://m.media-amazon.com/images/M/MV5BZDhhMTA3ODYtZGEzZC00MzgwLWEyYzktZjVkMDlkYmRjMTU4XkEyXkFqcGdeQXVyNjg2NjQwMDQ@._V1_.jpg', 'caption': {'plainText': 'Aaron Taylor-Johnson in A Million Little Pieces (2018)', '__typename': 'Markdown'}, '__typename': 'Image'}, 'titleType': {'text': 'Movie', 'id': 'movie', 'isSeries': False, 'isEpisode': False, '__typename': 'TitleType'}, 'titleText': {'text': 'A Million Little Pieces', '__typename': 'TitleText'}, 'originalTitleText': {'text': 'A Million Little Pieces', '__typename': 'TitleText'}, 'releaseYear': {'year': 2018, 'endYear': None, '__typename': 'YearRange'}, 'releaseDate': {'day': 6, 'month': 12, 'year': 2019, '__typename': 'ReleaseDate'}}, {'_id': '61e585398a5a6a599f423e6b', 'id': 'tt0458291', 'primaryImage': None, 'titleType': {'text': 'TV Series', 'id': 'tvSeries', 'isSeries': True, 'isEpisode': False, '__typename': 'TitleType'}, 'titleText': {'text': 'Star Wars: Underworld', '__typename': 'TitleText'}, 'originalTitleText': {'text': 'Star Wars: Underworld', '__typename': 'TitleText'}, 'releaseYear': {'year': 2018, 'endYear': None, '__typename': 'YearRange'}, 'releaseDate': None}, {'_id': '61e58746909c2ca78142b061', 'id': 'tt0640430', 'primaryImage': None, 'titleType': {'text': 'TV Episode', 'id': 'tvEpisode', 'isSeries': False, 'isEpisode': True, '__typename': 'TitleType'}, 'titleText': {'text': 'Episode #26.10', '__typename': 'TitleText'}, 'originalTitleText': {'text': 'Episode #26.10', '__typename': 'TitleText'}, 'releaseYear': {'year': 2018, 'endYear': None, '__typename': 'YearRange'}, 'releaseDate': {'day': 21, 'month': 3, 'year': 2018, '__typename': 'ReleaseDate'}}, {'_id': '61e58746a66e59642342b11b', 'id': 'tt0640433', 'primaryImage': None, 'titleType': {'text': 'TV Episode', 'id': 'tvEpisode', 'isSeries': False, 'isEpisode': True, '__typename': 'TitleType'}, 'titleText': {'text': 'Episode #26.13', '__typename': 'TitleText'}, 'originalTitleText': {'text': 'Episode #26.13', '__typename': 'TitleText'}, 'releaseYear': {'year': 2018, 'endYear': None, '__typename': 'YearRange'}, 'releaseDate': {'day': 26, 'month': 3, 'year': 2018, '__typename': 'ReleaseDate'}}, {'_id': '61e58746a66e59642342b11d', 'id': 'tt0640440', 'primaryImage': None, 'titleType': {'text': 'TV Episode', 'id': 'tvEpisode', 'isSeries': False, 'isEpisode': True, '__typename': 'TitleType'}, 'titleText': {'text': 'Episode #26.20', '__typename': 'TitleText'}, 'originalTitleText': {'text': 'Episode #26.20', '__typename': 'TitleText'}, 'releaseYear': {'year': 2018, 'endYear': None, '__typename': 'YearRange'}, 'releaseDate': {'day': 4, 'month': 4, 'year': 2018, '__typename': 'ReleaseDate'}}, {'_id': '61e58746b597b91eb942b1ad', 'id': 'tt0640434', 'primaryImage': None, 'titleType': {'text': 'TV Episode', 'id': 'tvEpisode', 'isSeries': False, 'isEpisode': True, '__typename': 'TitleType'}, 'titleText': {'text': 'Episode #26.14', '__typename': 'TitleText'}, 'originalTitleText': {'text': 'Episode #26.14', '__typename': 'TitleText'}, 'releaseYear': {'year': 2018, 'endYear': None, '__typename': 'YearRange'}, 'releaseDate': {'day': 27, 'month': 3, 'year': 2018, '__typename': 'ReleaseDate'}}, {'_id': '61e58746d8f3c0931e42b183', 'id': 'tt0640437', 'primaryImage': None, 'titleType': {'text': 'TV Episode', 'id': 'tvEpisode', 'isSeries': False, 'isEpisode': True, '__typename': 'TitleType'}, 'titleText': {'text': 'Episode #26.17', '__typename': 'TitleText'}, 'originalTitleText': {'text': 'Episode #26.17', '__typename': 'TitleText'}, 'releaseYear': {'year': 2018, 'endYear': None, '__typename': 'YearRange'}, 'releaseDate': {'day': 30, 'month': 3, 'year': 2018, '__typename': 'ReleaseDate'}}, {'_id': '61e58746e1a8ddbd9642b121', 'id': 'tt0640432', 'primaryImage': None, 'titleType': {'text': 'TV Episode', 'id': 'tvEpisode', 'isSeries': False, 'isEpisode': True, '__typename': 'TitleType'}, 'titleText': {'text': 'Episode #26.12', '__typename': 'TitleText'}, 'originalTitleText': {'text': 'Episode #26.12', '__typename': 'TitleText'}, 'releaseYear': {'year': 2018, 'endYear': None, '__typename': 'YearRange'}, 'releaseDate': {'day': 23, 'month': 3, 'year': 2018, '__typename': 'ReleaseDate'}}, {'_id': '61e58748a66e59642342b1a9', 'id': 'tt0640427', 'primaryImage': None, 'titleType': {'text': 'TV Episode', 'id': 'tvEpisode', 'isSeries': False, 'isEpisode': True, '__typename': 'TitleType'}, 'titleText': {'text': 'Vidas Brasileiras', '__typename': 'TitleText'}, 'originalTitleText': {'text': 'Vidas Brasileiras', '__typename': 'TitleText'}, 'releaseYear': {'year': 2018, 'endYear': None, '__typename': 'YearRange'}, 'releaseDate': {'day': 15, 'month': 3, 'year': 2018, '__typename': 'ReleaseDate'}}, {'_id': '61e58748a66e59642342b1ab', 'id': 'tt0640431', 'primaryImage': None, 'titleType': {'text': 'TV Episode', 'id': 'tvEpisode', 'isSeries': False, 'isEpisode': True, '__typename': 'TitleType'}, 'titleText': {'text': 'Episode #26.11', '__typename': 'TitleText'}, 'originalTitleText': {'text': 'Episode #26.11', '__typename': 'TitleText'}, 'releaseYear': {'year': 2018, 'endYear': None, '__typename': 'YearRange'}, 'releaseDate': {'day': 22, 'month': 3, 'year': 2018, '__typename': 'ReleaseDate'}}, {'_id': '61e58748b597b91eb942b231', 'id': 'tt0640426', 'primaryImage': None, 'titleType': {'text': 'TV Episode', 'id': 'tvEpisode', 'isSeries': False, 'isEpisode': True, '__typename': 'TitleType'}, 'titleText': {'text': 'Vidas Brasileiras', '__typename': 'TitleText'}, 'originalTitleText': {'text': 'Vidas Brasileiras', '__typename': 'TitleText'}, 'releaseYear': {'year': 2018, 'endYear': None, '__typename': 'YearRange'}, 'releaseDate': {'day': 13, 'month': 3, 'year': 2018, '__typename': 'ReleaseDate'}}, {'_id': '61e5874bd735dff3f942b2c3', 'id': 'tt0640436', 'primaryImage': None, 'titleType': {'text': 'TV Episode', 'id': 'tvEpisode', 'isSeries': False, 'isEpisode': True, '__typename': 'TitleType'}, 'titleText': {'text': 'Episode #26.16', '__typename': 'TitleText'}, 'originalTitleText': {'text': 'Episode #26.16', '__typename': 'TitleText'}, 'releaseYear': {'year': 2018, 'endYear': None, '__typename': 'YearRange'}, 'releaseDate': {'day': 29, 'month': 3, 'year': 2018, '__typename': 'ReleaseDate'}}, {'_id': '61e5874bd8f3c0931e42b295', 'id': 'tt0640428', 'primaryImage': None, 'titleType': {'text': 'TV Episode', 'id': 'tvEpisode', 'isSeries': False, 'isEpisode': True, '__typename': 'TitleType'}, 'titleText': {'text': 'Vidas Brasileiras', '__typename': 'TitleText'}, 'originalTitleText': {'text': 'Vidas Brasileiras', '__typename': 'TitleText'}, 'releaseYear': {'year': 2018, 'endYear': None, '__typename': 'YearRange'}, 'releaseDate': {'day': 19, 'month': 3, 'year': 2018, '__typename': 'ReleaseDate'}}, {'_id': '61e5874be1a8ddbd9642b213', 'id': 'tt0640441', 'primaryImage': None, 'titleType': {'text': 'TV Episode', 'id': 'tvEpisode', 'isSeries': False, 'isEpisode': True, '__typename': 'TitleType'}, 'titleText': {'text': 'Episode #26.21', '__typename': 'TitleText'}, 'originalTitleText': {'text': 'Episode #26.21', '__typename': 'TitleText'}, 'releaseYear': {'year': 2018, 'endYear': None, '__typename': 'YearRange'}, 'releaseDate': {'day': 5, 'month': 4, 'year': 2018, '__typename': 'ReleaseDate'}}, {'_id': '61e5874c78c012aa3442b193', 'id': 'tt0640438', 'primaryImage': None, 'titleType': {'text': 'TV Episode', 'id': 'tvEpisode', 'isSeries': False, 'isEpisode': True, '__typename': 'TitleType'}, 'titleText': {'text': 'Episode #26.18', '__typename': 'TitleText'}, 'originalTitleText': {'text': 'Episode #26.18', '__typename': 'TitleText'}, 'releaseYear': {'year': 2018, 'endYear': None, '__typename': 'YearRange'}, 'releaseDate': {'day': 2, 'month': 4, 'year': 2018, '__typename': 'ReleaseDate'}}, {'_id': '61e5874c8a5a6a599f42b3f9', 'id': 'tt0640435', 'primaryImage': None, 'titleType': {'text': 'TV Episode', 'id': 'tvEpisode', 'isSeries': False, 'isEpisode': True, '__typename': 'TitleType'}, 'titleText': {'text': 'Episode #26.15', '__typename': 'TitleText'}, 'originalTitleText': {'text': 'Episode #26.15', '__typename': 'TitleText'}, 'releaseYear': {'year': 2018, 'endYear': None, '__typename': 'YearRange'}, 'releaseDate': {'day': 28, 'month': 3, 'year': 2018, '__typename': 'ReleaseDate'}}, {'_id': '61e5874cd735dff3f942b319', 'id': 'tt0640429', 'primaryImage': None, 'titleType': {'text': 'TV Episode', 'id': 'tvEpisode', 'isSeries': False, 'isEpisode': True, '__typename': 'TitleType'}, 'titleText': {'text': 'Vidas Brasileiras', '__typename': 'TitleText'}, 'originalTitleText': {'text': 'Vidas Brasileiras', '__typename': 'TitleText'}, 'releaseYear': {'year': 2018, 'endYear': None, '__typename': 'YearRange'}, 'releaseDate': {'day': 20, 'month': 3, 'year': 2018, '__typename': 'ReleaseDate'}}, {'_id': '61e5874cd8f3c0931e42b2e9', 'id': 'tt0640439', 'primaryImage': None, 'titleType': {'text': 'TV Episode', 'id': 'tvEpisode', 'isSeries': False, 'isEpisode': True, '__typename': 'TitleType'}, 'titleText': {'text': 'Episode #26.19', '__typename': 'TitleText'}, 'originalTitleText': {'text': 'Episode #26.19', '__typename': 'TitleText'}, 'releaseYear': {'year': 2018, 'endYear': None, '__typename': 'YearRange'}, 'releaseDate': {'day': 3, 'month': 4, 'year': 2018, '__typename': 'ReleaseDate'}}, {'_id': '61e5874e78c012aa3442b20f', 'id': 'tt0640447', 'primaryImage': None, 'titleType': {'text': 'TV Episode', 'id': 'tvEpisode', 'isSeries': False, 'isEpisode': True, '__typename': 'TitleType'}, 'titleText': {'text': 'Episode #26.27', '__typename': 'TitleText'}, 'originalTitleText': {'text': 'Episode #26.27', '__typename': 'TitleText'}, 'releaseYear': {'year': 2018, 'endYear': None, '__typename': 'YearRange'}, 'releaseDate': {'day': 13, 'month': 4, 'year': 2018, '__typename': 'ReleaseDate'}}, {'_id': '61e5874e95801a78bc42b40b', 'id': 'tt0640449', 'primaryImage': None, 'titleType': {'text': 'TV Episode', 'id': 'tvEpisode', 'isSeries': False, 'isEpisode': True, '__typename': 'TitleType'}, 'titleText': {'text': 'Episode #26.29', '__typename': 'TitleText'}, 'originalTitleText': {'text': 'Episode #26.29', '__typename': 'TitleText'}, 'releaseYear': {'year': 2018, 'endYear': None, '__typename': 'YearRange'}, 'releaseDate': {'day': 17, 'month': 4, 'year': 2018, '__typename': 'ReleaseDate'}}, {'_id': '61e5874eb597b91eb942b379', 'id': 'tt0640446', 'primaryImage': None, 'titleType': {'text': 'TV Episode', 'id': 'tvEpisode', 'isSeries': False, 'isEpisode': True, '__typename': 'TitleType'}, 'titleText': {'text': 'Episode #26.26', '__typename': 'TitleText'}, 'originalTitleText': {'text': 'Episode #26.26', '__typename': 'TitleText'}, 'releaseYear': {'year': 2018, 'endYear': None, '__typename': 'YearRange'}, 'releaseDate': {'day': 12, 'month': 4, 'year': 2018, '__typename': 'ReleaseDate'}}, {'_id': '61e5874ee1a8ddbd9642b2e7', 'id': 'tt0640450', 'primaryImage': None, 'titleType': {'text': 'TV Episode', 'id': 'tvEpisode', 'isSeries': False, 'isEpisode': True, '__typename': 'TitleType'}, 'titleText': {'text': 'Episode #26.30', '__typename': 'TitleText'}, 'originalTitleText': {'text': 'Episode #26.30', '__typename': 'TitleText'}, 'releaseYear': {'year': 2018, 'endYear': None, '__typename': 'YearRange'}, 'releaseDate': {'day': 18, 'month': 4, 'year': 2018, '__typename': 'ReleaseDate'}}, {'_id': '61e58750909c2ca78142b2a7', 'id': 'tt0640444', 'primaryImage': None, 'titleType': {'text': 'TV Episode', 'id': 'tvEpisode', 'isSeries': False, 'isEpisode': True, '__typename': 'TitleType'}, 'titleText': {'text': 'Episode #26.24', '__typename': 'TitleText'}, 'originalTitleText': {'text': 'Episode #26.24', '__typename': 'TitleText'}, 'releaseYear': {'year': 2018, 'endYear': None, '__typename': 'YearRange'}, 'releaseDate': {'day': 10, 'month': 4, 'year': 2018, '__typename': 'ReleaseDate'}}, {'_id': '61e58750909c2ca78142b2ab', 'id': 'tt0640442', 'primaryImage': None, 'titleType': {'text': 'TV Episode', 'id': 'tvEpisode', 'isSeries': False, 'isEpisode': True, '__typename': 'TitleType'}, 'titleText': {'text': 'Episode #26.22', '__typename': 'TitleText'}, 'originalTitleText': {'text': 'Episode #26.22', '__typename': 'TitleText'}, 'releaseYear': {'year': 2018, 'endYear': None, '__typename': 'YearRange'}, 'releaseDate': {'day': 6, 'month': 4, 'year': 2018, '__typename': 'ReleaseDate'}}, {'_id': '61e58750a66e59642342b355', 'id': 'tt0640445', 'primaryImage': None, 'titleType': {'text': 'TV Episode', 'id': 'tvEpisode', 'isSeries': False, 'isEpisode': True, '__typename': 'TitleType'}, 'titleText': {'text': 'Episode #26.25', '__typename': 'TitleText'}, 'originalTitleText': {'text': 'Episode #26.25', '__typename': 'TitleText'}, 'releaseYear': {'year': 2018, 'endYear': None, '__typename': 'YearRange'}, 'releaseDate': {'day': 11, 'month': 4, 'year': 2018, '__typename': 'ReleaseDate'}}, {'_id': '61e58750cffb8f2faa42b28d', 'id': 'tt0640448', 'primaryImage': None, 'titleType': {'text': 'TV Episode', 'id': 'tvEpisode', 'isSeries': False, 'isEpisode': True, '__typename': 'TitleType'}, 'titleText': {'text': 'Episode #26.28', '__typename': 'TitleText'}, 'originalTitleText': {'text': 'Episode #26.28', '__typename': 'TitleText'}, 'releaseYear': {'year': 2018, 'endYear': None, '__typename': 'YearRange'}, 'releaseDate': {'day': 16, 'month': 4, 'year': 2018, '__typename': 'ReleaseDate'}}, {'_id': '61e58750e1a8ddbd9642b32d', 'id': 'tt0640451', 'primaryImage': None, 'titleType': {'text': 'TV Episode', 'id': 'tvEpisode', 'isSeries': False, 'isEpisode': True, '__typename': 'TitleType'}, 'titleText': {'text': 'Episode #26.31', '__typename': 'TitleText'}, 'originalTitleText': {'text': 'Episode #26.31', '__typename': 'TitleText'}, 'releaseYear': {'year': 2018, 'endYear': None, '__typename': 'YearRange'}, 'releaseDate': {'day': 19, 'month': 4, 'year': 2018, '__typename': 'ReleaseDate'}}, {'_id': '61e58750ef99b1c54342b315', 'id': 'tt0640443', 'primaryImage': None, 'titleType': {'text': 'TV Episode', 'id': 'tvEpisode', 'isSeries': False, 'isEpisode': True, '__typename': 'TitleType'}, 'titleText': {'text': 'Episode #26.23', '__typename': 'TitleText'}, 'originalTitleText': {'text': 'Episode #26.23', '__typename': 'TitleText'}, 'releaseYear': {'year': 2018, 'endYear': None, '__typename': 'YearRange'}, 'releaseDate': {'day': 9, 'month': 4, 'year': 2018, '__typename': 'ReleaseDate'}}, {'_id': '61e58ae28a5a6a599f4385c9', 'id': 'tt0972544', 'primaryImage': {'id': 'rm759526144', 'width': 2025, 'height': 3000, 'url': 'https://m.media-amazon.com/images/M/MV5BNDA0MjI1MzMtNjYwYi00NzgzLWE4NDYtZjQ0ZTcwZWFkZmEwXkEyXkFqcGdeQXVyMjE4NzUxNDA@._V1_.jpg', 'caption': {'plainText': 'Back Roads (2018)', '__typename': 'Markdown'}, '__typename': 'Image'}, 'titleType': {'text': 'Movie', 'id': 'movie', 'isSeries': False, 'isEpisode': False, '__typename': 'TitleType'}, 'titleText': {'text': 'Back Roads', '__typename': 'TitleText'}, 'originalTitleText': {'text': 'Back Roads', '__typename': 'TitleText'}, 'releaseYear': {'year': 2018, 'endYear': None, '__typename': 'YearRange'}, 'releaseDate': {'day': 7, 'month': 12, 'year': 2018, '__typename': 'ReleaseDate'}}, {'_id': '61e58b27e1a8ddbd96439453', 'id': 'tt10001006', 'primaryImage': None, 'titleType': {'text': 'TV Episode', 'id': 'tvEpisode', 'isSeries': False, 'isEpisode': True, '__typename': 'TitleType'}, 'titleText': {'text': 'Episode #1.221', '__typename': 'TitleText'}, 'originalTitleText': {'text': 'Episode #1.221', '__typename': 'TitleText'}, 'releaseYear': {'year': 2018, 'endYear': None, '__typename': 'YearRange'}, 'releaseDate': {'day': None, 'month': None, 'year': 2018, '__typename': 'ReleaseDate'}}, {'_id': '61e58b2d78c012aa344394a7', 'id': 'tt10001020', 'primaryImage': None, 'titleType': {'text': 'TV Episode', 'id': 'tvEpisode', 'isSeries': False, 'isEpisode': True, '__typename': 'TitleType'}, 'titleText': {'text': 'Episode #1.226', '__typename': 'TitleText'}, 'originalTitleText': {'text': 'Episode #1.226', '__typename': 'TitleText'}, 'releaseYear': {'year': 2018, 'endYear': None, '__typename': 'YearRange'}, 'releaseDate': {'day': None, 'month': None, 'year': 2018, '__typename': 'ReleaseDate'}}, {'_id': '61e58b2d78c012aa344394b9', 'id': 'tt10001944', 'primaryImage': None, 'titleType': {'text': 'TV Episode', 'id': 'tvEpisode', 'isSeries': False, 'isEpisode': True, '__typename': 'TitleType'}, 'titleText': {'text': 'Episode #2.160', '__typename': 'TitleText'}, 'originalTitleText': {'text': 'Episode #2.160', '__typename': 'TitleText'}, 'releaseYear': {'year': 2018, 'endYear': None, '__typename': 'YearRange'}, 'releaseDate': {'day': None, 'month': None, 'year': 2018, '__typename': 'ReleaseDate'}}, {'_id': '61e58b2d909c2ca78143953b', 'id': 'tt10001024', 'primaryImage': None, 'titleType': {'text': 'TV Episode', 'id': 'tvEpisode', 'isSeries': False, 'isEpisode': True, '__typename': 'TitleType'}, 'titleText': {'text': 'Episode #1.228', '__typename': 'TitleText'}, 'originalTitleText': {'text': 'Episode #1.228', '__typename': 'TitleText'}, 'releaseYear': {'year': 2018, 'endYear': None, '__typename': 'YearRange'}, 'releaseDate': {'day': None, 'month': None, 'year': 2018, '__typename': 'ReleaseDate'}}, {'_id': '61e58b2d971a4a15d643969d', 'id': 'tt10001952', 'primaryImage': None, 'titleType': {'text': 'TV Episode', 'id': 'tvEpisode', 'isSeries': False, 'isEpisode': True, '__typename': 'TitleType'}, 'titleText': {'text': 'Episode #1.141', '__typename': 'TitleText'}, 'originalTitleText': {'text': 'Episode #1.141', '__typename': 'TitleText'}, 'releaseYear': {'year': 2018, 'endYear': None, '__typename': 'YearRange'}, 'releaseDate': {'day': None, 'month': None, 'year': 2018, '__typename': 'ReleaseDate'}}, {'_id': '61e58b2da66e596423439595', 'id': 'tt10001938', 'primaryImage': None, 'titleType': {'text': 'TV Episode', 'id': 'tvEpisode', 'isSeries': False, 'isEpisode': True, '__typename': 'TitleType'}, 'titleText': {'text': 'Episode #2.157', '__typename': 'TitleText'}, 'originalTitleText': {'text': 'Episode #2.157', '__typename': 'TitleText'}, 'releaseYear': {'year': 2018, 'endYear': None, '__typename': 'YearRange'}, 'releaseDate': {'day': None, 'month': None, 'year': 2018, '__typename': 'ReleaseDate'}}, {'_id': '61e58b2dcffb8f2faa43953f', 'id': 'tt10001030', 'primaryImage': None, 'titleType': {'text': 'TV Episode', 'id': 'tvEpisode', 'isSeries': False, 'isEpisode': True, '__typename': 'TitleType'}, 'titleText': {'text': 'Episode #1.229', '__typename': 'TitleText'}, 'originalTitleText': {'text': 'Episode #1.229', '__typename': 'TitleText'}, 'releaseYear': {'year': 2018, 'endYear': None, '__typename': 'YearRange'}, 'releaseDate': {'day': None, 'month': None, 'year': 2018, '__typename': 'ReleaseDate'}}, {'_id': '61e58b2dd735dff3f9439751', 'id': 'tt10001008', 'primaryImage': None, 'titleType': {'text': 'TV Episode', 'id': 'tvEpisode', 'isSeries': False, 'isEpisode': True, '__typename': 'TitleType'}, 'titleText': {'text': 'Episode #1.222', '__typename': 'TitleText'}, 'originalTitleText': {'text': 'Episode #1.222', '__typename': 'TitleText'}, 'releaseYear': {'year': 2018, 'endYear': None, '__typename': 'YearRange'}, 'releaseDate': {'day': None, 'month': None, 'year': 2018, '__typename': 'ReleaseDate'}}, {'_id': '61e58b2dd8f3c0931e43962b', 'id': 'tt10001936', 'primaryImage': None, 'titleType': {'text': 'TV Episode', 'id': 'tvEpisode', 'isSeries': False, 'isEpisode': True, '__typename': 'TitleType'}, 'titleText': {'text': 'Episode #2.156', '__typename': 'TitleText'}, 'originalTitleText': {'text': 'Episode #2.156', '__typename': 'TitleText'}, 'releaseYear': {'year': 2018, 'endYear': None, '__typename': 'YearRange'}, 'releaseDate': {'day': None, 'month': None, 'year': 2018, '__typename': 'ReleaseDate'}}, {'_id': '61e58b2def99b1c543439639', 'id': 'tt10001908', 'primaryImage': None, 'titleType': {'text': 'TV Episode', 'id': 'tvEpisode', 'isSeries': False, 'isEpisode': True, '__typename': 'TitleType'}, 'titleText': {'text': 'Episode #2.144', '__typename': 'TitleText'}, 'originalTitleText': {'text': 'Episode #2.144', '__typename': 'TitleText'}, 'releaseYear': {'year': 2018, 'endYear': None, '__typename': 'YearRange'}, 'releaseDate': {'day': None, 'month': None, 'year': 2018, '__typename': 'ReleaseDate'}}, {'_id': '61e58b2e909c2ca781439581', 'id': 'tt10001902', 'primaryImage': None, 'titleType': {'text': 'TV Episode', 'id': 'tvEpisode', 'isSeries': False, 'isEpisode': True, '__typename': 'TitleType'}, 'titleText': {'text': 'Episode #2.141', '__typename': 'TitleText'}, 'originalTitleText': {'text': 'Episode #2.141', '__typename': 'TitleText'}, 'releaseYear': {'year': 2018, 'endYear': None, '__typename': 'YearRange'}, 'releaseDate': {'day': None, 'month': None, 'year': 2018, '__typename': 'ReleaseDate'}}, {'_id': '61e58b2e909c2ca781439585', 'id': 'tt10001934', 'primaryImage': None, 'titleType': {'text': 'TV Episode', 'id': 'tvEpisode', 'isSeries': False, 'isEpisode': True, '__typename': 'TitleType'}, 'titleText': {'text': 'Episode #2.155', '__typename': 'TitleText'}, 'originalTitleText': {'text': 'Episode #2.155', '__typename': 'TitleText'}, 'releaseYear': {'year': 2018, 'endYear': None, '__typename': 'YearRange'}, 'releaseDate': {'day': None, 'month': None, 'year': 2018, '__typename': 'ReleaseDate'}}, {'_id': '61e58b2e95801a78bc439793', 'id': 'tt10001916', 'primaryImage': None, 'titleType': {'text': 'TV Episode', 'id': 'tvEpisode', 'isSeries': False, 'isEpisode': True, '__typename': 'TitleType'}, 'titleText': {'text': 'Episode #2.149', '__typename': 'TitleText'}, 'originalTitleText': {'text': 'Episode #2.149', '__typename': 'TitleText'}, 'releaseYear': {'year': 2018, 'endYear': None, '__typename': 'YearRange'}, 'releaseDate': {'day': None, 'month': None, 'year': 2018, '__typename': 'ReleaseDate'}}, {'_id': '61e58b2e95801a78bc439797', 'id': 'tt10001906', 'primaryImage': None, 'titleType': {'text': 'TV Episode', 'id': 'tvEpisode', 'isSeries': False, 'isEpisode': True, '__typename': 'TitleType'}, 'titleText': {'text': 'Episode #2.143', '__typename': 'TitleText'}, 'originalTitleText': {'text': 'Episode #2.143', '__typename': 'TitleText'}, 'releaseYear': {'year': 2018, 'endYear': None, '__typename': 'YearRange'}, 'releaseDate': {'day': None, 'month': None, 'year': 2018, '__typename': 'ReleaseDate'}}, {'_id': '61e58b2ea66e5964234395b1', 'id': 'tt10001018', 'primaryImage': None, 'titleType': {'text': 'TV Episode', 'id': 'tvEpisode', 'isSeries': False, 'isEpisode': True, '__typename': 'TitleType'}, 'titleText': {'text': 'Episode #1.225', '__typename': 'TitleText'}, 'originalTitleText': {'text': 'Episode #1.225', '__typename': 'TitleText'}, 'releaseYear': {'year': 2018, 'endYear': None, '__typename': 'YearRange'}, 'releaseDate': {'day': None, 'month': None, 'year': 2018, '__typename': 'ReleaseDate'}}]}\n"
     ]
    }
   ],
   "source": [
    "respuesta_movies = peliculas('Drama', 2018)\n",
    "print(respuesta_movies)"
   ]
  },
  {
   "cell_type": "code",
   "execution_count": 26,
   "metadata": {},
   "outputs": [
    {
     "name": "stdout",
     "output_type": "stream",
     "text": [
      "dict_keys(['page', 'next', 'entries', 'results'])\n"
     ]
    }
   ],
   "source": [
    "print(respuesta_movies.keys())"
   ]
  },
  {
   "cell_type": "code",
   "execution_count": 27,
   "metadata": {},
   "outputs": [
    {
     "data": {
      "text/plain": [
       "{'_id': '61e580e4b597b91eb9414bc9',\n",
       " 'id': 'tt0069049',\n",
       " 'primaryImage': {'id': 'rm155088896',\n",
       "  'width': 1476,\n",
       "  'height': 2048,\n",
       "  'url': 'https://m.media-amazon.com/images/M/MV5BNDg5NTQ0NDU1Nl5BMl5BanBnXkFtZTgwMTExNzIyNjM@._V1_.jpg',\n",
       "  'caption': {'plainText': 'Peter Bogdanovich, John Huston, and Susan Strasberg in The Other Side of the Wind (2018)',\n",
       "   '__typename': 'Markdown'},\n",
       "  '__typename': 'Image'},\n",
       " 'titleType': {'text': 'Movie',\n",
       "  'id': 'movie',\n",
       "  'isSeries': False,\n",
       "  'isEpisode': False,\n",
       "  '__typename': 'TitleType'},\n",
       " 'titleText': {'text': 'The Other Side of the Wind',\n",
       "  '__typename': 'TitleText'},\n",
       " 'originalTitleText': {'text': 'The Other Side of the Wind',\n",
       "  '__typename': 'TitleText'},\n",
       " 'releaseYear': {'year': 2018, 'endYear': None, '__typename': 'YearRange'},\n",
       " 'releaseDate': {'day': 2,\n",
       "  'month': 11,\n",
       "  'year': 2018,\n",
       "  '__typename': 'ReleaseDate'}}"
      ]
     },
     "execution_count": 27,
     "metadata": {},
     "output_type": "execute_result"
    }
   ],
   "source": [
    "respuesta_movies['results'][0]"
   ]
  }
 ],
 "metadata": {
  "kernelspec": {
   "display_name": "base",
   "language": "python",
   "name": "python3"
  },
  "language_info": {
   "codemirror_mode": {
    "name": "ipython",
    "version": 3
   },
   "file_extension": ".py",
   "mimetype": "text/x-python",
   "name": "python",
   "nbconvert_exporter": "python",
   "pygments_lexer": "ipython3",
   "version": "3.9.7"
  }
 },
 "nbformat": 4,
 "nbformat_minor": 2
}
