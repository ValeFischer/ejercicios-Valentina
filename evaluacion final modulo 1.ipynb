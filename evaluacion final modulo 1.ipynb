{
 "cells": [
  {
   "cell_type": "code",
   "execution_count": 3,
   "metadata": {},
   "outputs": [],
   "source": [
    "#Creamos la clase\n",
    "class TiendaOnline:\n",
    "    def __init__(self): #definimos los atributos. Como asignaremos valores iniciales, no es necesario poner los atributos como parámetros.\n",
    "          self.inventario = []\n",
    "          self.cliente = {}\n",
    "          self.ventas_totales = 0.0 #iniciamos con un valor float.\n",
    "\n",
    "##Creamos los métodos\n",
    "\n",
    "# 1) Agregar Producto\n",
    "    def agregar_producto(self, nombre, precio, cantidad):\n",
    "        for producto in self.inventario:         # primero verificamos si el producto ya esta en el inventario y actualizamos su cantidad   \n",
    "              if producto['nombre'] == nombre:\n",
    "                producto ['cantidad'] += cantidad\n",
    "                print ('El producto se ha modificado con exito')\n",
    "        else: #si el producto no existe, lo agregamos\n",
    "            nuevo_producto = {'nombre': nombre , 'precio': precio, 'cantidad': cantidad}\n",
    "            self.inventario.append(nuevo_producto)\n",
    "            print('El producto se ha agregado con exito')\n",
    "\n",
    "# 2) Ver inventario\n",
    "    def ver_inventario(self):\n",
    "         for producto in self.inventario: #iteramos sobre el inventario y lo mostramos.\n",
    "            print(f\"Nombre: {producto['nombre']}, Precio: ${producto['precio']}, Cantidad: {producto['cantidad']}\")\n",
    "\n",
    "# 3) Buscar Producto\n",
    "    def buscar_producto(self, nombre):\n",
    "          for producto in self.inventario: #iteramos sobre el inventario y buscamos un match con el nombre\n",
    "            if nombre == producto['nombre']:\n",
    "                print(f\"Nombre: {producto['nombre']}, Precio: ${producto['precio']}, Cantidad: {producto['cantidad']}\")\n",
    "                break #para que no siga iterando si es que se ha encontrado el producto\n",
    "\n",
    "#4) Actualizar stock\n",
    "    def actualizar_stock(self, nombre, cantidad):\n",
    "        for producto in self.inventario: #iteramos sobre el inventario usando el nombre del producto y actualizamos la cantidad\n",
    "            if producto['nombre'] == nombre:\n",
    "                producto['cantidad'] = cantidad\n",
    "                print(f\"Nombre: {producto['nombre']}, Precio: ${producto['precio']}, Cantidad: {producto['cantidad']}\")\n",
    "                return\n",
    "        else: #si se ingresa un producto que no se encuentra en el inventario, entonces muestra este mensaje:\n",
    "            print('Este producto no se encuentra en el inventario')\n",
    "\n",
    "# 5) Eliminar producto\n",
    "    def eliminar_producto(self, nombre):\n",
    "        producto_eliminar = False #para hacer seguimiento si el producto se encuentra en el inventario\n",
    "        for producto in self.inventario: #iteramos sobre el inventario usando el nombre del producto como referencia\n",
    "            if nombre == producto ['nombre']:\n",
    "                print(f\"El producto {producto['nombre']} ha sido eliminado correctamente\") #primero el print para poder obtener el nombre del producto, y luego eliminarlo.\n",
    "                self.inventario.remove(producto) #al encontrar el producto, lo eliminamos\n",
    "                producto_eliminar = True\n",
    "                break\n",
    "        if not producto_eliminar: #si el producto no se encuentra en el inventario, muestra el siguiente mensaje:\n",
    "            print('Este producto no se encuentra en el inventario')\n",
    "\n",
    "  # 6) calcular el valor del inventario\n",
    "    def calcular_valor_inventario(self): #sumamos todos los productos, multiplicando cada uno de los precios por las cantidades de stock.\n",
    "         valor_inventario = sum(producto['precio']*producto['cantidad'] for producto in self.inventario)\n",
    "         print (f\"el valor total del inventario es:{valor_inventario}\") #mostramos el valor final\n",
    "\n",
    "# 7) Buscar producto con REGEX\n",
    "    def buscar_producto_regex(self, patron):\n",
    "        import re\n",
    "        resultados = [] #definimos una variable para almacenar las coincidencias con el patron\n",
    "        for producto in self.inventario:\n",
    "            if re.search(patron, producto ['nombre'], re.IGNORECASE):\n",
    "                resultados.append(producto)\n",
    "        if resultados:\n",
    "            for producto in resultados:\n",
    "                print(f\"Nombre: {producto['nombre']}, Precio: ${producto['precio']}, Cantidad: {producto['cantidad']}\")\n",
    "        else:\n",
    "            print('No se encontraron productos con este patron')\n",
    "# 8) Realizar compra\n",
    "    def realizar_compra(self):\n",
    "        self.ver_inventario()\n",
    "        while True:\n",
    "            producto_compra = input(\"Ingrese el nombre del producto que desea comprar o escriba 'terminar' para finalizar la compra: \")\n",
    "            if producto_compra.lower() == 'terminar':\n",
    "                break\n",
    "            encontrado = False\n",
    "            for producto in self.inventario:\n",
    "                if producto['nombre'] == producto_compra:\n",
    "                    encontrado = True\n",
    "                    cantidad_compra = int(input(\"Ingrese la cantidad que desea comprar: \"))\n",
    "                    carrito = {'producto': producto_compra, 'cantidad': cantidad_compra}\n",
    "                    if cantidad_compra <= producto['cantidad']:\n",
    "                        total_compra = producto['precio'] * cantidad_compra\n",
    "                        print(f\"Total de la compra: ${total_compra}\")\n",
    "                        # Actualizar inventario\n",
    "                        producto['cantidad'] -= cantidad_compra\n",
    "\n",
    "                        # Actualizar ventas totales\n",
    "                        self.ventas_totales += total_compra\n",
    "                    else:\n",
    "                        print(\"No hay suficiente cantidad disponible en el inventario.\") #agregar opcion para que ingrese otra cantidad y el bucle vuela.\n",
    "                    break\n",
    "\n",
    "            if not encontrado:\n",
    "                print(\"El producto ingresado no está disponible en el inventario.\")\n",
    "\n",
    "        \n",
    "        \n",
    "  # 9) procesar_pago\n",
    "    def procesar_pago(self):\n",
    "        try:\n",
    "            cantidad_total = float(input(\"Ingrese la cantidad total: \"))\n",
    "            cantidad_pago = float(input(\"Ingrese la cantidad de pago: \"))\n",
    "            cambio = cantidad_total - cantidad_pago\n",
    "            if cambio >= 0:\n",
    "                print(f\"Pago exitoso. Su cambio es: ${cambio:.2f}\")\n",
    "            else:\n",
    "                print(\"Monto insuficiente. El pago no se pudo procesar.\")\n",
    "        except ValueError:\n",
    "            print(\"Error: Ingrese un valor numérico válido para la cantidad total y la cantidad de pago.\")      \n",
    "         \n",
    " \n",
    " # 10) Agregar cliente\n",
    "    def agregar_cliente(self, nombre, email):\n",
    "        if nombre in self.cliente:\n",
    "            print('Es posible que este cliente ya se encuentr en el registro, por favor confirma')\n",
    "        else:\n",
    "            self.cliente[nombre] = {'email': email, 'compras': []}\n",
    "            print(f'El cliente {nombre} ha sido agregado correctamente al registro')\n",
    "\n",
    "# 11) Ver clientela\n",
    "    def ver_cliente(self):\n",
    "        for cliente in (self.cliente.items()):\n",
    "             print(f'{cliente}')\n",
    "\n",
    "#12) Registrar compra\n",
    "    def registrar_compra(self, nombre_cliente, carrito):\n",
    "        if nombre_cliente not in self.cliente:\n",
    "            print(\"No se puede realizar la acción porque el cliente no está registrado.\")\n",
    "        else:\n",
    "            total_compra = sum(producto['precio'] * producto['cantidad'] for producto in carrito.values())\n",
    "            # Agregar compras al cliente\n",
    "            if 'compras' not in self.cliente:\n",
    "                self.cliente[nombre_cliente][\"compras\"] = []\n",
    "                for producto, cantidad in carrito.items():\n",
    "                    self.cliente[nombre_cliente][\"compras\"].append({producto: {\"cantidad\": cantidad, \"total\": total_compra}})\n",
    "        self.ventas_totales += total_compra        \n",
    "\n",
    "\n",
    "         \n",
    "# 13) Ver compras cliente\n",
    "    def ver_compras_cliente(self, nombre):\n",
    "        if nombre in self.cliente:\n",
    "            self.cliente[nombre]['compras']\n",
    "            print(f\"{nombre}, {self.cliente[nombre]['compras']}\")\n",
    "        else:\n",
    "            print(f\"{nombre} no se encuentra registrado\")\n",
    "\n",
    "#14) Calcular ventas totales:\n",
    "    def calcular_ventas_totales(self): #ya que al realizar compra hemos agregado las comras totales de los clientes, ahora solo necesitamos mostras estas\n",
    "        return f\"{self.ventas_totales}\"\n",
    "        "
   ]
  },
  {
   "cell_type": "code",
   "execution_count": 4,
   "metadata": {},
   "outputs": [],
   "source": [
    "tienda = TiendaOnline()"
   ]
  },
  {
   "cell_type": "code",
   "execution_count": 5,
   "metadata": {},
   "outputs": [
    {
     "name": "stdout",
     "output_type": "stream",
     "text": [
      "El producto se ha agregado con exito\n",
      "El producto se ha agregado con exito\n",
      "El producto se ha agregado con exito\n"
     ]
    }
   ],
   "source": [
    "#agregamos productos\n",
    "producto1 = tienda.agregar_producto('camisa', 20, 40)\n",
    "producto2 = tienda.agregar_producto('pantalon', 30, 50)\n",
    "prodcucto3 = tienda.agregar_producto('calcetines', 5, 100)"
   ]
  },
  {
   "cell_type": "code",
   "execution_count": null,
   "metadata": {},
   "outputs": [],
   "source": [
    "tienda.realizar_compra()"
   ]
  },
  {
   "cell_type": "code",
   "execution_count": 6,
   "metadata": {},
   "outputs": [
    {
     "name": "stdout",
     "output_type": "stream",
     "text": [
      "El cliente Valentina ha sido agregado correctamente al registro\n"
     ]
    }
   ],
   "source": [
    "tienda.agregar_cliente('Valentina', 'v.fischerd@gmail.com')"
   ]
  },
  {
   "cell_type": "code",
   "execution_count": 7,
   "metadata": {},
   "outputs": [],
   "source": [
    "carrito_cliente1 = {\"Camisa\": {\"precio\": 20,\"cantidad\": 3}}\n",
    "tienda.registrar_compra('Valentina', carrito_cliente1)"
   ]
  },
  {
   "cell_type": "code",
   "execution_count": 8,
   "metadata": {},
   "outputs": [
    {
     "name": "stdout",
     "output_type": "stream",
     "text": [
      "Valentina, [{'Camisa': {'cantidad': {'precio': 20, 'cantidad': 3}, 'total': 60}}]\n"
     ]
    }
   ],
   "source": [
    "tienda.ver_compras_cliente('Valentina')"
   ]
  },
  {
   "cell_type": "code",
   "execution_count": 9,
   "metadata": {},
   "outputs": [
    {
     "data": {
      "text/plain": [
       "'60.0'"
      ]
     },
     "execution_count": 9,
     "metadata": {},
     "output_type": "execute_result"
    }
   ],
   "source": [
    "tienda.calcular_ventas_totales()"
   ]
  }
 ],
 "metadata": {
  "kernelspec": {
   "display_name": "Python 3",
   "language": "python",
   "name": "python3"
  },
  "language_info": {
   "codemirror_mode": {
    "name": "ipython",
    "version": 3
   },
   "file_extension": ".py",
   "mimetype": "text/x-python",
   "name": "python",
   "nbconvert_exporter": "python",
   "pygments_lexer": "ipython3",
   "version": "3.11.3"
  }
 },
 "nbformat": 4,
 "nbformat_minor": 2
}
