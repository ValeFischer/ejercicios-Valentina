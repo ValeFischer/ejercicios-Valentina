{
 "cells": [
  {
   "cell_type": "markdown",
   "metadata": {},
   "source": [
    "# Ejercicios\n",
    "\n",
    "1.  Utilizando la API de Balldontlie extrae la siguiente información. \n",
    "\n",
    "    - El nombre, apellido y equipo de cada uno de los jugadores que tenemos en la NBA. Para eso tendrás que usar el [siguiente](https://www.balldontlie.io/#players) endpoint. Extrae información de 200 jugadores. Devuelve los resultados en un DataFrame. Te deberá quedar algo parecido a esto:\n",
    "\n",
    "        ![jugadores](https://github.com/Adalab/data_imagenes/blob/main/Modulo-2/api's_clase_invertida_jugadores.png?raw=true)"
   ]
  },
  {
   "cell_type": "code",
   "execution_count": 1,
   "metadata": {},
   "outputs": [],
   "source": [
    "# Tratamiento de datos\n",
    "# -----------------------------------------------------------------------\n",
    "import pandas as pd\n",
    "\n",
    "# Uso de API's\n",
    "# -----------------------------------------------------------------------\n",
    "import requests\n",
    "\n",
    "# Importar librerías para procesamiento de texto\n",
    "# -----------------------------------------------------------------------\n",
    "import re\n",
    "\n",
    "# Configuración\n",
    "# -----------------------------------------------------------------------\n",
    "pd.set_option('display.max_columns', None) # para poder visualizar todas las columnas de los DataFrames"
   ]
  },
  {
   "cell_type": "code",
   "execution_count": 9,
   "metadata": {},
   "outputs": [],
   "source": [
    "def llamar_api_jugadores (url_jugadores, header):\n",
    "    print(header)\n",
    "    llamada_jug = requests.get(url_jugadores)\n",
    "    if llamada_jug.status_code != 200:\n",
    "        print(f'La razón de fallo es: {llamada_jug.reason}')\n",
    "    else:\n",
    "        return llamada_jug.json()"
   ]
  },
  {
   "cell_type": "code",
   "execution_count": 10,
   "metadata": {},
   "outputs": [
    {
     "name": "stdout",
     "output_type": "stream",
     "text": [
      "Authorization: 014e3dab-c303-4b81-828e-5fe3819d47b5\n",
      "La razón de fallo es: Unauthorized\n"
     ]
    }
   ],
   "source": [
    "url_jugadores = f\"http://api.balldontlie.io/v1/players\"\n",
    "header = 'Authorization: 014e3dab-c303-4b81-828e-5fe3819d47b5'\n",
    "llamar_api_jugadores(url_jugadores, header)"
   ]
  }
 ],
 "metadata": {
  "kernelspec": {
   "display_name": "base",
   "language": "python",
   "name": "python3"
  },
  "language_info": {
   "codemirror_mode": {
    "name": "ipython",
    "version": 3
   },
   "file_extension": ".py",
   "mimetype": "text/x-python",
   "name": "python",
   "nbconvert_exporter": "python",
   "pygments_lexer": "ipython3",
   "version": "3.9.7"
  }
 },
 "nbformat": 4,
 "nbformat_minor": 2
}
