{
 "cells": [
  {
   "cell_type": "markdown",
   "metadata": {},
   "source": [
    "Ejercicio 1 - crear variables"
   ]
  },
  {
   "cell_type": "code",
   "execution_count": 2,
   "metadata": {},
   "outputs": [],
   "source": [
    "var1 = 8\n",
    "var2 = 2\n",
    "var3 = 8"
   ]
  },
  {
   "cell_type": "markdown",
   "metadata": {},
   "source": [
    "Comprobar condiciones con if y operadores condicionales"
   ]
  },
  {
   "cell_type": "code",
   "execution_count": 3,
   "metadata": {},
   "outputs": [
    {
     "name": "stdout",
     "output_type": "stream",
     "text": [
      "Es enorme!\n"
     ]
    }
   ],
   "source": [
    "if var1 > 6:\n",
    "    print (\"Es enorme!\")"
   ]
  },
  {
   "cell_type": "code",
   "execution_count": 4,
   "metadata": {},
   "outputs": [],
   "source": [
    "if var2 > 6:\n",
    "    print(\"Es enorme tambien!\")"
   ]
  },
  {
   "cell_type": "code",
   "execution_count": 5,
   "metadata": {},
   "outputs": [
    {
     "name": "stdout",
     "output_type": "stream",
     "text": [
      "Es enorme!\n",
      "pero de verdad\n"
     ]
    }
   ],
   "source": [
    "if var3 > 6:\n",
    "    print (\"Es enorme!\")\n",
    "    print(\"pero de verdad\")"
   ]
  },
  {
   "cell_type": "code",
   "execution_count": 6,
   "metadata": {},
   "outputs": [
    {
     "name": "stdout",
     "output_type": "stream",
     "text": [
      "son iguales\n"
     ]
    }
   ],
   "source": [
    "if var1 == var3:\n",
    "    print(\"son iguales\")"
   ]
  },
  {
   "cell_type": "code",
   "execution_count": 7,
   "metadata": {},
   "outputs": [],
   "source": [
    "if var1 == var2:\n",
    "    print(\"son iguales\")"
   ]
  },
  {
   "cell_type": "code",
   "execution_count": 8,
   "metadata": {},
   "outputs": [
    {
     "name": "stdout",
     "output_type": "stream",
     "text": [
      "La diferencia es, 6\n"
     ]
    }
   ],
   "source": [
    "if var1 >= var2:\n",
    "    dif = var1 - var2\n",
    "    print (\"La diferencia es,\", dif)"
   ]
  },
  {
   "cell_type": "markdown",
   "metadata": {},
   "source": [
    "Ejercicio 11 - Crear un programa "
   ]
  },
  {
   "cell_type": "code",
   "execution_count": 1,
   "metadata": {},
   "outputs": [],
   "source": [
    "edad_cliente = input(\"Qué edad tienes?\")\n",
    "int_edad_cliente = int(edad_cliente)\n",
    "if int_edad_cliente < 4:\n",
    "    print(\"Puedes entrar gratis\")\n"
   ]
  },
  {
   "cell_type": "code",
   "execution_count": 10,
   "metadata": {},
   "outputs": [
    {
     "name": "stdout",
     "output_type": "stream",
     "text": [
      "Puedes entrar gratis\n"
     ]
    }
   ],
   "source": [
    "edad_cliente = input(\"Qué edad tienes?\")\n",
    "int_edad_cliente = int(edad_cliente)\n",
    "if int_edad_cliente < 4:\n",
    "    print(\"Puedes entrar gratis\")\n",
    "elif int_edad_cliente >= 4 and int_edad_cliente <= 18:\n",
    "    print (\"Debes pagar 5 EUR\")"
   ]
  },
  {
   "cell_type": "code",
   "execution_count": 2,
   "metadata": {},
   "outputs": [],
   "source": [
    "edad_cliente = input(\"Qué edad tienes?\")\n",
    "int_edad_cliente = int(edad_cliente)\n",
    "if int_edad_cliente >18:\n",
    "   print (\"Debes pagar 10 EUR\")\n"
   ]
  },
  {
   "cell_type": "code",
   "execution_count": 3,
   "metadata": {},
   "outputs": [
    {
     "name": "stdout",
     "output_type": "stream",
     "text": [
      "Debes pagar 10 EUR\n"
     ]
    }
   ],
   "source": [
    "edad_cliente = input(\"Qué edad tienes?\")\n",
    "int_edad_cliente = int(edad_cliente)\n",
    "if int_edad_cliente < 4:\n",
    "    print(\"Puedes entrar gratis\")\n",
    "elif int_edad_cliente >= 4 and int_edad_cliente <= 18:\n",
    "    print (\"Debes pagar 5 EUR\")\n",
    "elif int_edad_cliente >18:\n",
    "   print (\"Debes pagar 10 EUR\")"
   ]
  },
  {
   "cell_type": "markdown",
   "metadata": {},
   "source": [
    "Repaso clase Sentencia de control parte 1"
   ]
  },
  {
   "cell_type": "code",
   "execution_count": 10,
   "metadata": {},
   "outputs": [
    {
     "name": "stdout",
     "output_type": "stream",
     "text": [
      "Es positivo\n"
     ]
    }
   ],
   "source": [
    "numero = float(input(\"Ingresa un numero\"))\n",
    "if numero < 0:\n",
    "    print(\"Es negativo\")\n",
    "elif numero == 0:\n",
    "    print(\"Es cero\")\n",
    "else:\n",
    "    print(\"Es positivo\")"
   ]
  },
  {
   "cell_type": "markdown",
   "metadata": {},
   "source": [
    "Ejercicio 6 pair programming sentencia de control par 1:\n",
    "Calcular el descuento\n",
    "100 * 0.10"
   ]
  },
  {
   "cell_type": "code",
   "execution_count": 12,
   "metadata": {},
   "outputs": [
    {
     "data": {
      "text/plain": [
       "10.0"
      ]
     },
     "execution_count": 12,
     "metadata": {},
     "output_type": "execute_result"
    }
   ],
   "source": [
    "descuento = 100 * 0.10\n",
    "descuento"
   ]
  },
  {
   "cell_type": "code",
   "execution_count": 14,
   "metadata": {},
   "outputs": [
    {
     "name": "stdout",
     "output_type": "stream",
     "text": [
      "no hay descuento\n"
     ]
    }
   ],
   "source": [
    "gasto = float(input(\"cuanto has gastado en la pescaderia?\"))\n",
    "if gasto >= 100:\n",
    "    print( \" el descuento es de un\", gasto*0.1)\n",
    "else:\n",
    "    print(\"no hay descuento\")"
   ]
  },
  {
   "cell_type": "code",
   "execution_count": 17,
   "metadata": {},
   "outputs": [
    {
     "name": "stdout",
     "output_type": "stream",
     "text": [
      "Adulto mayor\n"
     ]
    }
   ],
   "source": [
    "#ejercicio 8\n",
    "edad_cliente = input(\"Qué edad tienes?\")\n",
    "int_edad_cliente = int(edad_cliente)\n",
    "if int_edad_cliente < 18:\n",
    "    print(\"Eres menor de edad\")\n",
    "elif int_edad_cliente >= 18 and int_edad_cliente <= 64:\n",
    "    print (\"Eres adulto\")\n",
    "else:\n",
    "    print(\"Adulto mayor\")"
   ]
  },
  {
   "cell_type": "code",
   "execution_count": null,
   "metadata": {},
   "outputs": [],
   "source": [
    "#ejercicio 8 sin tantos print\n",
    "edad_cliente = input(\"Qué edad tienes?\")\n",
    "int_edad_cliente = int(edad_cliente)\n",
    "if int_edad_cliente < 18:\n",
    "    print(\"Eres menor de edad\")\n",
    "elif int_edad_cliente >= 18 and int_edad_cliente <= 64:\n",
    "    print (\"Eres adulto\")\n",
    "else:\n",
    "    print(\"Adulto mayor\")"
   ]
  },
  {
   "cell_type": "code",
   "execution_count": 14,
   "metadata": {},
   "outputs": [
    {
     "name": "stdout",
     "output_type": "stream",
     "text": [
      "Tu calificacion es C\n"
     ]
    }
   ],
   "source": [
    "#Ejercicio 10 - calificar\n",
    "puntuacion = float(input('indica tu puntuacion'))\n",
    "\n",
    "if puntuacion >= 90:\n",
    "    print('tu calificacion es A')\n",
    "elif puntuacion >= 80 and puntuacion < 90:\n",
    "    print('tu calificacion es B')\n",
    "elif puntuacion >= 70 and puntuacion < 80:\n",
    "    print('Tu calificacion es C')\n",
    "elif puntuacion >= 60 and puntuacion <70:\n",
    "    print('Tu calificacion es D')\n",
    "else:\n",
    "    print('Tu calificacion es F')"
   ]
  },
  {
   "cell_type": "code",
   "execution_count": 4,
   "metadata": {},
   "outputs": [
    {
     "name": "stdout",
     "output_type": "stream",
     "text": [
      "El ahorro que tenemos es de: 5\n",
      "El ahorro que tenemos es de: 10\n",
      "El ahorro que tenemos es de: 15\n",
      "El ahorro que tenemos es de: 20\n"
     ]
    }
   ],
   "source": [
    "#ejercicio Bucle While 12\n",
    "ahorros = 5\n",
    "\n",
    "while ahorros <= 20:\n",
    "    print('El ahorro que tenemos es de:', ahorros)\n",
    "    ahorros+=5\n"
   ]
  },
  {
   "cell_type": "code",
   "execution_count": 19,
   "metadata": {},
   "outputs": [
    {
     "name": "stdout",
     "output_type": "stream",
     "text": [
      "Debes pagar un impuesto de:  300.00\n"
     ]
    }
   ],
   "source": [
    "#Impuesto a la renta\n",
    "ingreso_anual = float(input('Indica tu ingreso anual'))\n",
    "estado_civil = input('indica si tu estado civil es Soltero (ingresa S) o Casado(ingresa C)')\n",
    "\n",
    "if estado_civil.upper() == 'S':\n",
    "    if ingreso_anual <= 9875:\n",
    "        impuesto = ingreso_anual * 0.10\n",
    "        print(f'Debes pagar un impuesto de: {impuesto: .2f}')\n",
    "    elif ingreso_anual <= 40125:\n",
    "        impuesto = 9875 * 0.10 + (ingreso_anual - 9875) * 0.12\n",
    "        print('Debes pagar un impuesto de:', impuesto)\n",
    "\n",
    "if estado_civil.upper() == 'C':\n",
    "    if ingreso_anual <= 19850:\n",
    "        impuesto = ingreso_anual * 0.10\n",
    "        print(f'Debes pagar un impuesto de: {impuesto: .2f}')\n",
    "    elif ingreso_anual <= 80250:\n",
    "        impuesto = 19850 * 0.10 + (ingreso_anual - 19850) * 0.12\n",
    "        print('Debes pagar un impuesto de:', impuesto)\n"
   ]
  },
  {
   "cell_type": "code",
   "execution_count": null,
   "metadata": {},
   "outputs": [],
   "source": []
  }
 ],
 "metadata": {
  "kernelspec": {
   "display_name": "Python 3",
   "language": "python",
   "name": "python3"
  },
  "language_info": {
   "codemirror_mode": {
    "name": "ipython",
    "version": 3
   },
   "file_extension": ".py",
   "mimetype": "text/x-python",
   "name": "python",
   "nbconvert_exporter": "python",
   "pygments_lexer": "ipython3",
   "version": "3.11.3"
  }
 },
 "nbformat": 4,
 "nbformat_minor": 2
}
