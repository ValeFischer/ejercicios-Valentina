{
 "cells": [
  {
   "cell_type": "markdown",
   "metadata": {},
   "source": [
    "# Ejercicios \n",
    "\n",
    "Crea una clase llamada `Vehiculo` que representa un vehículo genérico. Esta clase tiene la capacidad de realizar acciones relacionadas con el vehículo, como encenderlo, apagarlo, acelerar, frenar y detenerlo gradualmente. Cada método en la clase tiene una descripción específica de su función. A continuación, se detallan los aspectos clave de esta clase:\n",
    "\n",
    "- **Atributos:**\n",
    "\n",
    "    - `marca`: Una cadena que representa la marca del vehículo.\n",
    "\n",
    "    - `modelo`: Una cadena que representa el modelo del vehículo.\n",
    "\n",
    "    - `año`: Un número entero que representa el año de fabricación del vehículo.\n",
    "\n",
    "    - `velocidad_actual`: Un número entero que representa la velocidad actual del vehículo en km/h.\n",
    "\n",
    "    - `encendido`: Un valor booleano que indica si el vehículo está encendido (`True`) o apagado (`False`).\n",
    "\n",
    "- **Métodos:**\n",
    "\n",
    "    -  `__init__(self, marca, modelo, año)`: El constructor de la clase que inicializa los atributos del vehículo, incluyendo la marca, el modelo, el año, la velocidad actual (inicialmente 0) y el estado del encendido (inicialmente apagado).\n",
    "\n",
    "    - `informacion(self)`: Un método que devuelve una cadena de texto con la información básica del vehículo, incluyendo la marca, el modelo y el año.\n",
    "\n",
    "    - `encender(self)`: Un método que enciende el vehículo si está apagado y devuelve un mensaje de confirmación. Si el vehículo ya está encendido, devuelve un mensaje indicando que ya está en funcionamiento.\n",
    "\n",
    "    - `apagar(self)`: Un método que apaga el vehículo si está encendido, establece la velocidad actual en 0 y devuelve un mensaje de confirmación. Si el vehículo ya está apagado, devuelve un mensaje indicando que ya está apagado.\n",
    "\n",
    "    - `acelerar(self, velocidad)`: Un método que aumenta la velocidad actual del vehículo según la cantidad de velocidad proporcionada como argumento. Si el vehículo está encendido, aumenta la velocidad y devuelve un mensaje con la nueva velocidad actual. Si el vehículo está apagado, devuelve un mensaje indicando que no se puede acelerar.\n",
    "\n",
    "    - `frenar(self, velocidad)`: Un método que reduce la velocidad actual del vehículo según la cantidad de velocidad proporcionada como argumento. Si el vehículo está encendido, reduce la velocidad y devuelve un mensaje con la nueva velocidad actual. Si el vehículo está apagado, devuelve un mensaje indicando que no se puede frenar.\n",
    "\n",
    "    - `detener(self)`: Un método que detiene gradualmente el vehículo reduciendo la velocidad en incrementos de 5 km/h hasta que alcance una velocidad de 0 km/h. Si el vehículo está encendido, detiene el vehículo y devuelve un mensaje de confirmación. Si el vehículo está apagado, devuelve un mensaje indicando que no se puede detener."
   ]
  },
  {
   "cell_type": "code",
   "execution_count": 9,
   "metadata": {},
   "outputs": [],
   "source": [
    "class Vehiculo:\n",
    "    pass #por que va el pass?\n"
   ]
  },
  {
   "cell_type": "code",
   "execution_count": 10,
   "metadata": {},
   "outputs": [
    {
     "data": {
      "text/plain": [
       "__main__.Vehiculo"
      ]
     },
     "execution_count": 10,
     "metadata": {},
     "output_type": "execute_result"
    }
   ],
   "source": [
    "mustang = Vehiculo\n",
    "mustang"
   ]
  },
  {
   "cell_type": "code",
   "execution_count": 34,
   "metadata": {},
   "outputs": [],
   "source": [
    "class Vehiculo:\n",
    "    def __init__(self, marca, modelo, año):\n",
    "          self.marca = marca\n",
    "          self.modelo = modelo\n",
    "          self.año = año\n",
    "          self.velocidad_actual = 0\n",
    "          self.encendido = False\n",
    "\n",
    "    def informacion (self):\n",
    "           return f'informacion basica del vehiculo:', {self.marca}\n",
    "    \n",
    "  "
   ]
  },
  {
   "cell_type": "code",
   "execution_count": 19,
   "metadata": {},
   "outputs": [],
   "source": [
    "mustang = Vehiculo('ford', 'mustang', 2020, 0, False)"
   ]
  },
  {
   "cell_type": "code",
   "execution_count": 25,
   "metadata": {},
   "outputs": [
    {
     "data": {
      "text/plain": [
       "'ford'"
      ]
     },
     "execution_count": 25,
     "metadata": {},
     "output_type": "execute_result"
    }
   ],
   "source": [
    "mustang.marca\n"
   ]
  },
  {
   "cell_type": "code",
   "execution_count": 26,
   "metadata": {},
   "outputs": [
    {
     "data": {
      "text/plain": [
       "False"
      ]
     },
     "execution_count": 26,
     "metadata": {},
     "output_type": "execute_result"
    }
   ],
   "source": [
    "mustang.encendido"
   ]
  },
  {
   "cell_type": "code",
   "execution_count": 21,
   "metadata": {},
   "outputs": [],
   "source": []
  },
  {
   "cell_type": "code",
   "execution_count": 24,
   "metadata": {},
   "outputs": [
    {
     "ename": "AttributeError",
     "evalue": "'Vehiculo' object has no attribute 'informacion'",
     "output_type": "error",
     "traceback": [
      "\u001b[1;31m---------------------------------------------------------------------------\u001b[0m",
      "\u001b[1;31mAttributeError\u001b[0m                            Traceback (most recent call last)",
      "Cell \u001b[1;32mIn[24], line 1\u001b[0m\n\u001b[1;32m----> 1\u001b[0m \u001b[43mmustang\u001b[49m\u001b[38;5;241;43m.\u001b[39;49m\u001b[43minformacion\u001b[49m()\n",
      "\u001b[1;31mAttributeError\u001b[0m: 'Vehiculo' object has no attribute 'informacion'"
     ]
    }
   ],
   "source": [
    "mustang.informacion()"
   ]
  },
  {
   "cell_type": "code",
   "execution_count": 4,
   "metadata": {},
   "outputs": [],
   "source": [
    "class Personajes:\n",
    "    def __init__(self, nombre, salud,fuerza):\n",
    "        self.nombre = nombre\n",
    "        self.salud = salud\n",
    "        self.fuerza = fuerza\n",
    "    \n",
    "    def atacar(self):\n",
    "        print(f'El guerrero', {self.nombre}, ' esta atacando')\n",
    "        "
   ]
  },
  {
   "cell_type": "code",
   "execution_count": 33,
   "metadata": {},
   "outputs": [],
   "source": [
    "class Coche(Vehiculo):\n",
    "    def __init__(self, marca, modelo, año, combustible):\n",
    "          super().__init__(self, marca, modelo, año)\n",
    "          self.combustible = combustible\n",
    "    "
   ]
  }
 ],
 "metadata": {
  "kernelspec": {
   "display_name": "Python 3",
   "language": "python",
   "name": "python3"
  },
  "language_info": {
   "codemirror_mode": {
    "name": "ipython",
    "version": 3
   },
   "file_extension": ".py",
   "mimetype": "text/x-python",
   "name": "python",
   "nbconvert_exporter": "python",
   "pygments_lexer": "ipython3",
   "version": "3.11.3"
  }
 },
 "nbformat": 4,
 "nbformat_minor": 2
}
