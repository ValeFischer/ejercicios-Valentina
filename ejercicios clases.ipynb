{
 "cells": [
  {
   "cell_type": "markdown",
   "metadata": {},
   "source": [
    "# Ejercicios \n",
    "\n",
    "Crea una clase llamada `Vehiculo` que representa un vehículo genérico. Esta clase tiene la capacidad de realizar acciones relacionadas con el vehículo, como encenderlo, apagarlo, acelerar, frenar y detenerlo gradualmente. Cada método en la clase tiene una descripción específica de su función. A continuación, se detallan los aspectos clave de esta clase:\n",
    "\n",
    "- **Atributos:**\n",
    "\n",
    "    - `marca`: Una cadena que representa la marca del vehículo.\n",
    "\n",
    "    - `modelo`: Una cadena que representa el modelo del vehículo.\n",
    "\n",
    "    - `año`: Un número entero que representa el año de fabricación del vehículo.\n",
    "\n",
    "    - `velocidad_actual`: Un número entero que representa la velocidad actual del vehículo en km/h.\n",
    "\n",
    "    - `encendido`: Un valor booleano que indica si el vehículo está encendido (`True`) o apagado (`False`).\n",
    "\n",
    "- **Métodos:**\n",
    "\n",
    "    -  `__init__(self, marca, modelo, año)`: El constructor de la clase que inicializa los atributos del vehículo, incluyendo la marca, el modelo, el año, la velocidad actual (inicialmente 0) y el estado del encendido (inicialmente apagado).\n",
    "\n",
    "    - `informacion(self)`: Un método que devuelve una cadena de texto con la información básica del vehículo, incluyendo la marca, el modelo y el año.\n",
    "\n",
    "    - `encender(self)`: Un método que enciende el vehículo si está apagado y devuelve un mensaje de confirmación. Si el vehículo ya está encendido, devuelve un mensaje indicando que ya está en funcionamiento.\n",
    "\n",
    "    - `apagar(self)`: Un método que apaga el vehículo si está encendido, establece la velocidad actual en 0 y devuelve un mensaje de confirmación. Si el vehículo ya está apagado, devuelve un mensaje indicando que ya está apagado.\n",
    "\n",
    "    - `acelerar(self, velocidad)`: Un método que aumenta la velocidad actual del vehículo según la cantidad de velocidad proporcionada como argumento. Si el vehículo está encendido, aumenta la velocidad y devuelve un mensaje con la nueva velocidad actual. Si el vehículo está apagado, devuelve un mensaje indicando que no se puede acelerar.\n",
    "\n",
    "    - `frenar(self, velocidad)`: Un método que reduce la velocidad actual del vehículo según la cantidad de velocidad proporcionada como argumento. Si el vehículo está encendido, reduce la velocidad y devuelve un mensaje con la nueva velocidad actual. Si el vehículo está apagado, devuelve un mensaje indicando que no se puede frenar.\n",
    "\n",
    "    - `detener(self)`: Un método que detiene gradualmente el vehículo reduciendo la velocidad en incrementos de 5 km/h hasta que alcance una velocidad de 0 km/h. Si el vehículo está encendido, detiene el vehículo y devuelve un mensaje de confirmación. Si el vehículo está apagado, devuelve un mensaje indicando que no se puede detener."
   ]
  },
  {
   "cell_type": "code",
   "execution_count": 12,
   "metadata": {},
   "outputs": [],
   "source": [
    "class Vehiculo:\n",
    "    def __init__(self, marca, modelo, anyo):\n",
    "        self.marca = marca\n",
    "        self.modelo = modelo\n",
    "        self.anyo = anyo\n",
    "        self.velocidad_actual = 0\n",
    "        self.encendido = False\n"
   ]
  },
  {
   "cell_type": "code",
   "execution_count": 6,
   "metadata": {},
   "outputs": [],
   "source": [
    "def informacion(self):\n",
    "    return f'Vehiculo: {self.marca} {self.modelo}, Año:{self.anyo}'"
   ]
  },
  {
   "cell_type": "code",
   "execution_count": 7,
   "metadata": {},
   "outputs": [],
   "source": [
    "def encender(self):\n",
    "    if not self.encendido:\n",
    "        self.encendido = True\n",
    "        return f'El vehiculo se ha encendido'\n",
    "    else:\n",
    "        return f'El vehiculo ya esta encendido'"
   ]
  },
  {
   "cell_type": "code",
   "execution_count": 9,
   "metadata": {},
   "outputs": [],
   "source": [
    "def acelerar(self, velocidad):\n",
    "    if self.encendido:\n",
    "        self.velocidad_actual += velocidad\n",
    "        return f'La nueva velocidad es:{self.velocidad_actual} km/h.'\n",
    "    else:\n",
    "        return f'no se puede acelerar, el vehiculo esta apagado'\n",
    "    "
   ]
  },
  {
   "cell_type": "markdown",
   "metadata": {},
   "source": [
    "Unimos todo para que los metodos funcionen"
   ]
  },
  {
   "cell_type": "code",
   "execution_count": 24,
   "metadata": {},
   "outputs": [],
   "source": [
    "class Vehiculo:\n",
    "    def __init__(self, marca, modelo, anyo):\n",
    "        self.marca = marca\n",
    "        self.modelo = modelo\n",
    "        self.anyo = anyo\n",
    "        self.velocidad_actual = 0\n",
    "        self.encendido = False\n",
    "\n",
    "    def informacion(self):\n",
    "        return f'Vehiculo: {self.marca} {self.modelo}, Año:{self.anyo}'\n",
    "    \n",
    "    def encender(self):\n",
    "        if not self.encendido:\n",
    "            self.encendido = True\n",
    "            return f'El vehiculo se ha encendido'\n",
    "        else:\n",
    "            return f'El vehiculo ya esta encendido'\n",
    "        \n",
    "    def acelerar(self, velocidad):\n",
    "        if self.encendido:\n",
    "            self.velocidad_actual += velocidad\n",
    "            return f'La nueva velocidad es:{self.velocidad_actual} km/h.'\n",
    "        else:\n",
    "            return f'no se puede acelerar, el vehiculo esta apagado'\n",
    "    \n",
    "    def frenar(self,velocidad):\n",
    "                if self.encendido:\n",
    "                     self.velocidad_actual -= velocidad\n",
    "                     if self.velocidad_actual <0:\n",
    "                          self.velocidad_actual = 0\n",
    "                     return f'el vehiculo freno a {self.velocidad_actual} km/h.'\n",
    "                else:\n",
    "                     return f'no se puede frenar, el vehiculo esta apagado'\n",
    "    \n",
    "    def detener(self):\n",
    "        if self.encendido:\n",
    "            while self.velocidad_actual > 0:\n",
    "                self.frenar(5)  # Reducir la velocidad gradualmente\n",
    "            return \"El vehículo se ha detenido completamente.\"\n",
    "        else:\n",
    "            return \"No se puede detener, el vehículo está apagado.\"\n",
    "    \n",
    "    def apagar(self):\n",
    "        if self.encendido:\n",
    "            self.encendido = False\n",
    "            self.velocidad_actual = 0\n",
    "            return \"El vehículo se ha apagado.\"\n",
    "        else:\n",
    "            return \"El vehículo ya está apagado.\""
   ]
  },
  {
   "cell_type": "code",
   "execution_count": 25,
   "metadata": {},
   "outputs": [
    {
     "name": "stdout",
     "output_type": "stream",
     "text": [
      "Vehiculo: Ford Mustang, Año:2020\n"
     ]
    }
   ],
   "source": [
    "#instancia de vehiculo\n",
    "vehiculo1 = Vehiculo('Ford', 'Mustang', 2020)\n",
    "print(vehiculo1.informacion())"
   ]
  },
  {
   "cell_type": "code",
   "execution_count": 18,
   "metadata": {},
   "outputs": [
    {
     "name": "stdout",
     "output_type": "stream",
     "text": [
      "El vehiculo se ha encendido\n"
     ]
    }
   ],
   "source": [
    "#enciende el vehiculo\n",
    "print(vehiculo1.encender())"
   ]
  },
  {
   "cell_type": "code",
   "execution_count": 20,
   "metadata": {},
   "outputs": [
    {
     "name": "stdout",
     "output_type": "stream",
     "text": [
      "La nueva velocidad es:50 km/h.\n"
     ]
    }
   ],
   "source": [
    "#acelerar\n",
    "print(vehiculo1.acelerar(50))"
   ]
  },
  {
   "cell_type": "code",
   "execution_count": 21,
   "metadata": {},
   "outputs": [
    {
     "name": "stdout",
     "output_type": "stream",
     "text": [
      "El vehículo se ha detenido completamente.\n"
     ]
    }
   ],
   "source": [
    "#detener\n",
    "print(vehiculo1.detener())"
   ]
  },
  {
   "cell_type": "code",
   "execution_count": 26,
   "metadata": {},
   "outputs": [
    {
     "name": "stdout",
     "output_type": "stream",
     "text": [
      "El vehículo ya está apagado.\n"
     ]
    }
   ],
   "source": [
    "#apagar\n",
    "print(vehiculo1.apagar())"
   ]
  },
  {
   "cell_type": "markdown",
   "metadata": {},
   "source": [
    "Crear una sub-clase"
   ]
  },
  {
   "cell_type": "code",
   "execution_count": 27,
   "metadata": {},
   "outputs": [],
   "source": [
    "class Coche(Vehiculo):\n",
    "    def __init__(self, marca, modelo, año, combustible):\n",
    "        super().__init__(marca, modelo, año)\n",
    "        self.combustible = combustible\n",
    "\n",
    "    def informacion(self):\n",
    "        return f\"Coche: {self.marca} {self.modelo}, Año: {self.año}, Combustible: {self.combustible}\""
   ]
  },
  {
   "cell_type": "code",
   "execution_count": 28,
   "metadata": {},
   "outputs": [],
   "source": [
    "coche_especifico = Coche(\"ABC\", \"Sedán B\", 2022, \"Gasolina\")"
   ]
  },
  {
   "cell_type": "code",
   "execution_count": 29,
   "metadata": {},
   "outputs": [
    {
     "name": "stdout",
     "output_type": "stream",
     "text": [
      "El vehiculo se ha encendido\n"
     ]
    }
   ],
   "source": [
    "print(coche_especifico.encender())"
   ]
  }
 ],
 "metadata": {
  "kernelspec": {
   "display_name": "Python 3",
   "language": "python",
   "name": "python3"
  },
  "language_info": {
   "codemirror_mode": {
    "name": "ipython",
    "version": 3
   },
   "file_extension": ".py",
   "mimetype": "text/x-python",
   "name": "python",
   "nbconvert_exporter": "python",
   "pygments_lexer": "ipython3",
   "version": "3.11.3"
  }
 },
 "nbformat": 4,
 "nbformat_minor": 2
}
