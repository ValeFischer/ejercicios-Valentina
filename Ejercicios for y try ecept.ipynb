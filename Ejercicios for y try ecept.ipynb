{
 "cells": [
  {
   "cell_type": "markdown",
   "metadata": {},
   "source": [
    "Ejercicios FOR"
   ]
  },
  {
   "cell_type": "code",
   "execution_count": 2,
   "metadata": {},
   "outputs": [
    {
     "data": {
      "text/plain": [
       "[1, 2, 3, 4, 5]"
      ]
     },
     "execution_count": 2,
     "metadata": {},
     "output_type": "execute_result"
    }
   ],
   "source": [
    "#imprimir numeros del 1 al 5\n",
    "numeros = [n for n in range(1,6)]\n",
    "numeros"
   ]
  },
  {
   "cell_type": "code",
   "execution_count": 3,
   "metadata": {},
   "outputs": [
    {
     "data": {
      "text/plain": [
       "[1, 2, 3, 4, 5, 6, 7, 8, 9, 10]"
      ]
     },
     "execution_count": 3,
     "metadata": {},
     "output_type": "execute_result"
    }
   ],
   "source": [
    "#calcular la suma de los 10 primeros numeros naturales\n",
    "numeros_nat = [nn for nn in range(1,11)]\n",
    "numeros_nat"
   ]
  },
  {
   "cell_type": "code",
   "execution_count": 6,
   "metadata": {},
   "outputs": [
    {
     "name": "stdout",
     "output_type": "stream",
     "text": [
      "1\n",
      "3\n",
      "6\n",
      "10\n",
      "15\n",
      "21\n",
      "28\n",
      "36\n",
      "45\n",
      "55\n"
     ]
    }
   ],
   "source": [
    "suma = 0\n",
    "for nn in numeros_nat:\n",
    "    suma +=nn\n",
    "    print(suma)\n",
    "    \n"
   ]
  },
  {
   "cell_type": "code",
   "execution_count": 7,
   "metadata": {},
   "outputs": [
    {
     "name": "stdout",
     "output_type": "stream",
     "text": [
      "1\n",
      "3\n",
      "6\n",
      "10\n",
      "15\n",
      "21\n",
      "28\n",
      "36\n",
      "45\n",
      "55\n"
     ]
    }
   ],
   "source": [
    "#otra forma de escribir el codigo mas simple:\n",
    "suma2= 0\n",
    "for nn2 in range(1,11):\n",
    "    suma2 += nn2\n",
    "    print(suma2)"
   ]
  },
  {
   "cell_type": "code",
   "execution_count": 10,
   "metadata": {},
   "outputs": [
    {
     "name": "stdout",
     "output_type": "stream",
     "text": [
      "5\n",
      "30\n",
      "210\n",
      "1680\n",
      "15120\n",
      "151200\n",
      "1663200\n",
      "19958400\n",
      "259459200\n",
      "3632428800\n",
      "54486432000\n",
      "871782912000\n",
      "14820309504000\n",
      "266765571072000\n",
      "5068545850368000\n",
      "101370917007360000\n",
      "2128789257154560000\n",
      "46833363657400320000\n",
      "1077167364120207360000\n",
      "25852016738884976640000\n",
      "646300418472124416000000\n"
     ]
    }
   ],
   "source": [
    "#Descripción: Dada una lista de números, utiliza un bucle for para calcular el producto de todos los elementos.\n",
    "multiplicacion = 1\n",
    "for n3 in range(5,26):\n",
    "    multiplicacion *= n3\n",
    "    print(multiplicacion)"
   ]
  },
  {
   "cell_type": "code",
   "execution_count": 12,
   "metadata": {},
   "outputs": [
    {
     "name": "stdout",
     "output_type": "stream",
     "text": [
      " \n",
      "E\n",
      "s\n",
      "t\n",
      "a\n",
      " \n",
      "e\n",
      "s\n",
      " \n",
      "u\n",
      "n\n",
      "a\n",
      " \n",
      "c\n",
      "a\n",
      "d\n",
      "e\n",
      "n\n",
      "a\n",
      " \n",
      "d\n",
      "e\n",
      " \n",
      "t\n",
      "e\n",
      "x\n",
      "t\n",
      "o\n"
     ]
    }
   ],
   "source": [
    "#Descripción: Dada una cadena de texto, utiliza un bucle for para imprimir cada carácter en una línea separada.\n",
    "\n",
    "cadena =' Esta es una cadena de texto'\n",
    "for caracter in cadena:\n",
    "    print(caracter)"
   ]
  },
  {
   "cell_type": "code",
   "execution_count": null,
   "metadata": {},
   "outputs": [],
   "source": [
    "#Descripción: Utiliza un bucle for para imprimir los números pares del 1 al 100 en orden ascendente\n",
    "for num in range(1,101):\n",
    "    if num % 2 == 0:\n",
    "        print(num)"
   ]
  },
  {
   "cell_type": "code",
   "execution_count": null,
   "metadata": {},
   "outputs": [],
   "source": [
    "#numeros primos\n",
    "for num2 in range (2,51):\n",
    "    if num2 % 1 == 0 and num2 % num2 == 0:\n",
    "        print(num2)\n",
    "\n",
    "## imprime todos los que cumple con la condicion, pero si tienen mas divisored los imprime igual."
   ]
  },
  {
   "cell_type": "markdown",
   "metadata": {},
   "source": [
    "Ejercicios List comprehension"
   ]
  },
  {
   "cell_type": "code",
   "execution_count": null,
   "metadata": {},
   "outputs": [],
   "source": [
    "#Descripción: Utiliza list comprehension para generar una lista que contenga todos los números pares en el rango del 1 al 20."
   ]
  },
  {
   "cell_type": "code",
   "execution_count": 21,
   "metadata": {},
   "outputs": [
    {
     "name": "stdout",
     "output_type": "stream",
     "text": [
      "[2, 4, 6, 8, 10, 12, 14, 16, 18]\n"
     ]
    }
   ],
   "source": [
    "list_pares = [num4 for num4 in range(1,20) if num4 % 2 == 0]\n",
    "print(list_pares)"
   ]
  },
  {
   "cell_type": "code",
   "execution_count": 26,
   "metadata": {},
   "outputs": [
    {
     "name": "stdout",
     "output_type": "stream",
     "text": [
      "{'a', 'u', 'e', 'o'}\n"
     ]
    }
   ],
   "source": [
    "#Descripción: Utiliza list comprehension para crear una lista que contenga todas las vocales presentes en una cadena de texto (sin repetición).\n",
    "\n",
    "vocales = ['a','e','i','o','u']\n",
    "set_vocales = {letra for letra in 'Esta es una cadena de texto 2' if letra in vocales}\n",
    "print(set_vocales)"
   ]
  }
 ],
 "metadata": {
  "kernelspec": {
   "display_name": "Python 3",
   "language": "python",
   "name": "python3"
  },
  "language_info": {
   "codemirror_mode": {
    "name": "ipython",
    "version": 3
   },
   "file_extension": ".py",
   "mimetype": "text/x-python",
   "name": "python",
   "nbconvert_exporter": "python",
   "pygments_lexer": "ipython3",
   "version": "3.11.3"
  }
 },
 "nbformat": 4,
 "nbformat_minor": 2
}
