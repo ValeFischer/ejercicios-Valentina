{
 "cells": [
  {
   "cell_type": "markdown",
   "metadata": {},
   "source": [
    "Ejercicios FOR"
   ]
  },
  {
   "cell_type": "code",
   "execution_count": null,
   "metadata": {},
   "outputs": [],
   "source": [
    "#hacer lista de temperaturas\n",
    "temperaturas = [23, 12, 37, 1, 6, 15]\n",
    "\n",
    "bajas = []\n",
    "medias = []\n",
    "altas = []\n",
    "\n",
    "for temp in temperaturas:\n",
    "    if temp < 11:\n",
    "        bajas.append(temp)\n",
    "    elif temp "
   ]
  },
  {
   "cell_type": "code",
   "execution_count": 1,
   "metadata": {},
   "outputs": [
    {
     "name": "stdout",
     "output_type": "stream",
     "text": [
      "0\n",
      "1\n",
      "2\n",
      "3\n",
      "4\n",
      "5\n"
     ]
    }
   ],
   "source": [
    "for num in range(6):\n",
    "    print(num)"
   ]
  },
  {
   "cell_type": "code",
   "execution_count": 2,
   "metadata": {},
   "outputs": [
    {
     "data": {
      "text/plain": [
       "[4,\n",
       " 2025,\n",
       " 4489,\n",
       " 529,\n",
       " 2025,\n",
       " 4356,\n",
       " 144,\n",
       " 1,\n",
       " 1156,\n",
       " 4489,\n",
       " 9801,\n",
       " 9604,\n",
       " 4489,\n",
       " 4096,\n",
       " 1936,\n",
       " 10000]"
      ]
     },
     "execution_count": 2,
     "metadata": {},
     "output_type": "execute_result"
    }
   ],
   "source": [
    "lista = [2,45,67,23, 45,66,12,1,34,67,99,98,67,64, 44, 100]\n",
    "lista_cuadrado = [num**2 for num in lista]\n",
    "lista_cuadrado"
   ]
  },
  {
   "cell_type": "code",
   "execution_count": 3,
   "metadata": {},
   "outputs": [
    {
     "data": {
      "text/plain": [
       "[2, 45, 23, 45, 12, 1, 34, 44]"
      ]
     },
     "execution_count": 3,
     "metadata": {},
     "output_type": "execute_result"
    }
   ],
   "source": [
    "lista_menos_50 = [num for num in lista if num < 50]\n",
    "lista_menos_50"
   ]
  },
  {
   "cell_type": "markdown",
   "metadata": {},
   "source": [
    "Ejercicio try except\n"
   ]
  },
  {
   "cell_type": "code",
   "execution_count": 1,
   "metadata": {},
   "outputs": [
    {
     "name": "stdout",
     "output_type": "stream",
     "text": [
      "y\n",
      "t\n",
      "h\n",
      "o\n",
      "n\n"
     ]
    }
   ],
   "source": [
    "cadena = 'Python'\n",
    "for letra in cadena:\n",
    "    if letra == 'P':\n",
    "        continue\n",
    "    print(letra)"
   ]
  },
  {
   "cell_type": "code",
   "execution_count": 2,
   "metadata": {},
   "outputs": [
    {
     "name": "stdout",
     "output_type": "stream",
     "text": [
      "H\n",
      "e\n",
      "o\n"
     ]
    }
   ],
   "source": [
    "frase = 'Hello'\n",
    "for letra in frase:\n",
    "    if letra == 'l':\n",
    "        pass\n",
    "    else:\n",
    "        print(letra)\n",
    "\n",
    "        ## en este caso puede ser con o sin else"
   ]
  },
  {
   "cell_type": "code",
   "execution_count": 3,
   "metadata": {},
   "outputs": [
    {
     "name": "stdout",
     "output_type": "stream",
     "text": [
      "Un error\n"
     ]
    }
   ],
   "source": [
    "#define variable doce=12 y seis=6\n",
    "\n",
    "doce= '12'\n",
    "seis = 6\n",
    "\n",
    "try:\n",
    "    suma = doce + seis\n",
    "except TypeError:\n",
    "    print('Un error')\n"
   ]
  }
 ],
 "metadata": {
  "kernelspec": {
   "display_name": "Python 3",
   "language": "python",
   "name": "python3"
  },
  "language_info": {
   "codemirror_mode": {
    "name": "ipython",
    "version": 3
   },
   "file_extension": ".py",
   "mimetype": "text/x-python",
   "name": "python",
   "nbconvert_exporter": "python",
   "pygments_lexer": "ipython3",
   "version": "3.11.3"
  }
 },
 "nbformat": 4,
 "nbformat_minor": 2
}
